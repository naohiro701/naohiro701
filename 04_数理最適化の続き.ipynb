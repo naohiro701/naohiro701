{
  "cells": [
    {
      "cell_type": "markdown",
      "metadata": {
        "id": "view-in-github",
        "colab_type": "text"
      },
      "source": [
        "<a href=\"https://colab.research.google.com/github/naohiro701/naohiro701/blob/main/04_%E6%95%B0%E7%90%86%E6%9C%80%E9%81%A9%E5%8C%96%E3%81%AE%E7%B6%9A%E3%81%8D.ipynb\" target=\"_parent\"><img src=\"https://colab.research.google.com/assets/colab-badge.svg\" alt=\"Open In Colab\"/></a>"
      ]
    },
    {
      "cell_type": "markdown",
      "source": [
        "# 数理最適化の実践"
      ],
      "metadata": {
        "id": "pnF5LVXmRxSV"
      }
    },
    {
      "cell_type": "markdown",
      "metadata": {
        "id": "oPzDYPHUgIm_"
      },
      "source": [
        "### PuLPのインストール\n",
        "PuLP is an LP modeler written in Python. "
      ]
    },
    {
      "cell_type": "code",
      "execution_count": null,
      "metadata": {
        "colab": {
          "base_uri": "https://localhost:8080/"
        },
        "id": "CfuJbbwPgBI9",
        "outputId": "2ee4c905-c72c-45e0-e37e-1de93120ca8d"
      },
      "outputs": [
        {
          "output_type": "stream",
          "name": "stdout",
          "text": [
            "Looking in indexes: https://pypi.org/simple, https://us-python.pkg.dev/colab-wheels/public/simple/\n",
            "Requirement already satisfied: pulp in /usr/local/lib/python3.8/dist-packages (2.7.0)\n"
          ]
        }
      ],
      "source": [
        "!pip install pulp"
      ]
    },
    {
      "cell_type": "markdown",
      "metadata": {
        "id": "MrfsxJo9gsPP"
      },
      "source": [
        "## 書き方\n",
        "### 新しい変数を作成\n",
        "\n",
        "$0 \\le x \\le 1$ という変数を作成する\n",
        "```\n",
        "x = LpVariable(\"x\", 0, 1)\n",
        "```\n",
        "\n",
        "変数 $0 \\le y \\le \\infty$ を作成\n",
        "```\n",
        "y = LpVariable(\"y\", 0, sys.maxsize)\n",
        "```\n",
        "\n",
        "変数の設定をする．\n",
        "\n",
        "```\n",
        "x = LpVariable('x', cat='Integer')\n",
        "```\n",
        "- Continuous, 実数\n",
        "- Integer, 整数\n",
        "- Binary, 0 または 1\n",
        "\n",
        "### 新しい問題を作成\n",
        "\n",
        "\"myProblem \"を作成\n",
        "```\n",
        "prob = LpProblem(\"myProblem\", LpMinimize)\n",
        "```\n",
        "\n",
        "制約条件を追加\n",
        "```\n",
        "prob += x + y <= 2\n",
        "```\n",
        "\n",
        "目的関数を設定するには，等号を含まないものを入力\n",
        "```\n",
        "prob += -4*x + y\n",
        "```\n",
        "デフォルトで入っているソルバーで解く\n",
        "```\n",
        "status = prob.solve()\n",
        "```\n",
        "解けたのか確認する\n",
        "```\n",
        "LpStatus[status]\n",
        "> 'Optimal'\n",
        "```\n",
        "得られた解を確認する\n",
        "```\n",
        "pulp.value(x)\n",
        "```"
      ]
    },
    {
      "cell_type": "markdown",
      "metadata": {
        "id": "_Ny-Sy3FoDdS"
      },
      "source": [
        "## コードの書き方の例"
      ]
    },
    {
      "cell_type": "code",
      "execution_count": null,
      "metadata": {
        "id": "H-qfZaBiZbyN"
      },
      "outputs": [],
      "source": [
        "# 線形/整数線形最適化問題を解くためにPuLPをインポート\n",
        "from  pulp import * \n",
        "\n",
        "# 数理最適化問題（最大化）を宣言\n",
        "# 最小化の場合は pMinimize にする\n",
        "problem = LpProblem(\"Example_Problem\", LpMaximize)\n",
        "\n",
        "# 変数の定義 （x,yは非負）\n",
        "x = pulp.LpVariable(\"x\", 0, sys.maxsize)\n",
        "y = pulp.LpVariable(\"y\", 0, sys.maxsize)\n",
        "\n",
        "# 目的関数\n",
        "problem +=  x + y, \"Objective function\" \n",
        "\n",
        "# 制約条件\n",
        "problem +=  2 * x + y <= 3 , \"Constraint_1\"\n",
        "problem +=  x + 2 * y <= 4 , \"Constraint_2\" \n",
        "\n",
        "# 計算\n",
        "result_status = problem.solve()\n",
        "\n",
        "# 目的関数値や解を表示\n",
        "print(\"\")\n",
        "print(\"計算結果\")\n",
        "print(\"*\" * 16)\n",
        "print(f\"最適性 = {LpStatus[result_status]}\")\n",
        "print(f\"目的関数値 = {value(problem.objective)}\")\n",
        "print(f\"解 x = {value(x)}\")\n",
        "print(f\"　 y = {value(y)}\")\n",
        "print(\"*\" *16)"
      ]
    },
    {
      "cell_type": "markdown",
      "metadata": {
        "id": "3Q02h_4vdyhO"
      },
      "source": [
        "### クラス編成問題\n",
        "\n",
        "実験のクラス分けを行う．学籍番号がS001からS100の100名の学生を，C01からC16の16クラスに分ける．各学生は，以下の表の通りに，第1志望から第4志望まで登録している．どのようなクラス分けを行うのがよいか．"
      ]
    },
    {
      "cell_type": "markdown",
      "metadata": {
        "id": "o7FEJNegd02G"
      },
      "source": [
        "Table1：学生の希望順位リスト (Markdown)"
      ]
    },
    {
      "cell_type": "markdown",
      "metadata": {
        "id": "Gtfx67vRgFM3"
      },
      "source": [
        "| |C01  | C02 | C03 | C04 | C05 | C06 | C07 | C08 | C09 | C10 | C11 | C12 | C13 | C14 | C15 | C16 |\n",
        "|------|-----|-----|-----|-----|-----|-----|-----|-----|-----|-----|-----|-----|-----|-----|-----|-----|\n",
        "| S001 |     | 1   |     |     |     | 4   |     |     |     |     |     | 2   |     |     |     | 3 |\n",
        "| S002 |     |     |     |     |     |     |     |     | 1   | 3   |     |     | 2   |     | 4   |   |\n",
        "| S003 | 4   |     |     |     | 1   | 3   |     | 2   |     |     |     |     |     |     |     |   |\n",
        "| S004 |     |     |     |     |     | 4   |     |     |     | 2   | 1   |     |     |     | 3   |   |\n",
        "| S005 | 2   |     |     |     |     | 1   | 3   |     |     |     |     |     |     |     | 4   |   |\n",
        "| S006 |     | 2   |     | 4   |     |     |     | 3   |     |     |     | 1   |     |     |     |   |\n",
        "| S007 |     |     |     |     | 1   | 4   |     |     | 2   | 3   |     |     |     |     |     |   |\n",
        "| S008 | 3   |     |     |     | 1   |     |     |     | 2   |     |     |     | 4   |     |     |   |\n",
        "| S009 |     |     |     |     |     | 4   |     | 3   |     | 1   |     | 2   |     |     |     |   |\n",
        "| S010 |     |     |     |     |     | 1   |     | 2   |     |     |     | 3   |     |     |     | 4 |\n",
        "| S011 | 4   |     |     |     | 3   |     |     |     |     |     |     | 1   |     |     |     | 2 |\n",
        "| S012 |     |     | 1   |     |     |     | 4   |     |     |     | 2   | 3   |     |     |     |   |\n",
        "| S013 |     |     |     |     |     |     |     | 4   |     | 2   |     | 1   |     |     |     | 3 |\n",
        "| S014 | 2   |     |     | 3   | 1   |     |     |     | 4   |     |     |     |     |     |     |   |\n",
        "| S015 | 1   |     |     | 3   |     |     |     | 4   |     |     |     | 2   |     |     |     |   |\n",
        "| S016 |     | 2   |     |     | 1   |     | 4   |     |     |     | 3   |     |     |     |     |   |\n",
        "| S017 |     |     |     |     |     | 1   |     | 4   |     | 2   |     |     |     |     |     | 3 |\n",
        "| S018 | 4   |     |     |     | 3   |     |     |     |     |     |     | 1   |     |     |     | 2 |\n",
        "| S019 |     | 4   |     |     |     | 3   |     |     |     |     | 2   | 1   |     |     |     |   |\n",
        "| S020 |     |     |     |     | 3   | 1   |     |     |     |     |     | 2   |     |     |     | 4 |\n",
        "| S021 |     | 1   |     |     |     | 4   |     |     |     |     |     | 2   |     |     |     | 3 |\n",
        "| S022 |     |     |     |     | 1   |     |     | 3   | 2   |     |     |     | 4   |     |     |   |\n",
        "| S023 | 2   |     |     |     |     |     |     | 1   |     |     |     | 3   | 4   |     |     |   |\n",
        "| S024 |     | 1   |     | 2   |     | 3   |     | 4   |     |     |     |     |     |     |     |   |\n",
        "| S025 | 4   |     |     |     | 2   |     |     | 3   |     |     |     |     |     |     |     | 1 |\n",
        "| S026 | 4   | 1   |     |     |     |     |     |     |     |     |     | 2   |     |     |     | 3 |\n",
        "| S027 |     | 3   |     |     |     |     |     |     |     |     | 2   | 1   |     |     |     | 4 |\n",
        "| S028 |     |     |     |     |     |     | 2   | 1   |     |     | 4   | 3   |     |     |     |   |\n",
        "| S029 |     | 3   |     | 4   |     | 1   |     | 2   |     |     |     |     |     |     |     |   |\n",
        "| S030 |     | 2   |     |     | 1   |     | 3   |     |     |     |     |     |     |     | 4   |   |\n",
        "| S031 |     |     |     |     |     |     |     |     |     | 3   | 2   | 1   |     |     |     | 4 |\n",
        "| S032 | 4   |     |     |     | 3   |     |     |     |     |     |     | 1   |     |     |     | 2 |\n",
        "| S033 | 2   |     |     |     | 1   |     |     | 4   |     |     |     | 3   |     |     |     |   |\n",
        "| S034 |     | 2   |     | 1   |     |     |     |     |     |     |     | 3   |     | 4   |     |   |\n",
        "| S035 |     |     |     | 3   |     |     |     | 1   |     |     |     | 2   |     |     |     | 4 |\n",
        "| S036 |     |     |     |     |     | 3   |     | 4   | 1   | 2   |     |     |     |     |     |   |\n",
        "| S037 |     | 2   |     |     |     | 1   |     |     |     |     | 3   |     |     |     | 4   |   |\n",
        "| S038 |     | 1   |     |     |     | 4   |     |     |     |     | 3   | 2   |     |     |     |   |\n",
        "| S039 |     |     |     |     |     | 3   |     |     |     | 1   |     |     |     | 2   |     | 4 |\n",
        "| S040 |     | 4   | 3   |     |     |     |     |     |     | 2   |     | 1   |     |     |     |   |\n",
        "| S041 |     |     |     | 2   |     |     |     | 1   |     |     |     | 3   |     |     | 4   |   |\n",
        "| S042 |     | 2   |     |     |     |     |     |     |     |     |     | 4   |     | 1   |     | 3 |\n",
        "| S043 |     | 1   |     | 4   |     | 2   |     |     |     |     |     |     |     |     |     | 3 |\n",
        "| S044 |     |     |     |     | 1   | 3   |     | 2   |     |     |     |     | 4   |     |     |   |\n",
        "| S045 |     |     |     |     |     | 2   |     |     |     | 1   |     | 3   |     |     |     | 4 |\n",
        "| S046 |     |     |     | 4   |     | 1   |     | 2   |     | 3   |     |     |     |     |     |   |\n",
        "| S047 | 4   |     |     |     | 2   |     |     |     | 1   |     |     |     |     |     | 3   |   |\n",
        "| S048 |     |     |     |     |     |     |     | 3   |     | 1   |     |     | 4   | 2   |     |   |\n",
        "| S049 |     |     |     |     |     | 2   |     |     |     |     | 1   | 4   |     |     | 3   |   |\n",
        "| S050 | 4   | 3   |     |     |     | 1   | 2   |     |     |     |     |     |     |     |     |   |\n",
        "| S051 |     |     |     |     |     | 2   |     | 3   |     | 1   |     | 4   |     |     |     |   |\n",
        "| S052 |     |     |     |     | 4   | 3   |     |     |     | 2   |     |     |     | 1   |     |   |\n",
        "| S053 |     |     |     |     | 1   |     |     |     | 3   |     | 2   |     |     |     | 4   |   |\n",
        "| S054 | 3   |     |     |     | 1   |     |     |     | 2   |     |     |     |     |     | 4   |   |\n",
        "| S055 |     | 3   |     |     |     | 1   |     | 2   |     |     |     | 4   |     |     |     |   |\n",
        "| S056 |     |     |     |     |     | 4   |     | 2   |     |     |     | 3   |     |     |     | 1 |\n",
        "| S057 | 4   |     |     |     | 1   |     | 2   |     |     |     | 3   |     |     |     |     |   |\n",
        "| S058 | 2   |     |     |     |     | 1   |     | 4   |     |     |     |     |     |     |     | 3 |\n",
        "| S059 |     |     |     |     | 2   |     |     | 3   |     | 1   |     |     |     | 4   |     |   |\n",
        "| S060 |     |     |     |     |     | 3   |     | 4   | 1   | 2   |     |     |     |     |     |   |\n",
        "| S061 |     | 2   |     |     |     | 4   |     |     |     |     | 3   | 1   |     |     |     |   |\n",
        "| S062 |     |     |     |     |     | 1   |     | 2   |     |     |     | 3   |     |     |     | 4 |\n",
        "| S063 | 2   |     | 3   |     |     |     |     |     |     |     | 1   |     |     | 4   |     |   |\n",
        "| S064 |     |     |     |     |     | 3   |     | 4   |     |     |     | 1   |     |     |     | 2 |\n",
        "| S065 |     | 4   |     |     |     | 2   |     |     |     |     | 1   | 3   |     |     |     |   |\n",
        "| S066 |     | 2   |     |     |     | 1   |     |     |     | 4   |     | 3   |     |     |     |   |\n",
        "| S067 |     |     |     | 4   |     |     |     | 3   |     | 1   |     |     |     | 2   |     |   |\n",
        "| S068 |     | 3   |     |     |     | 1   |     |     |     |     |     | 2   |     |     |     | 4 |\n",
        "| S069 |     |     | 2   |     |     |     | 4   |     |     |     |     |     | 1   |     | 3   |   |\n",
        "| S070 | 4   |     |     |     | 3   |     |     |     |     |     |     | 2   |     |     |     | 1 |\n",
        "| S071 |     | 1   |     | 3   |     |     |     |     |     | 2   |     | 4   |     |     |     |   |\n",
        "| S072 |     | 1   |     |     |     | 2   |     |     |     | 4   |     | 3   |     |     |     |   |\n",
        "| S073 |     | 4   |     |     |     |     |     |     |     |     |     | 1   |     | 3   |     | 2 |\n",
        "| S074 | 2   |     | 3   |     |     |     | 4   |     |     |     | 1   |     |     |     |     |   |\n",
        "| S075 | 4   | 2   |     |     | 3   | 1   |     |     |     |     |     |     |     |     |     |   |\n",
        "| S076 |     | 3   |     |     |     | 2   |     |     |     | 1   |     | 4   |     |     |     |   |\n",
        "| S077 | 4   |     |     |     | 1   |     |     | 3   |     |     |     | 2   |     |     |     |   |\n",
        "| S078 | 4   |     |     |     | 3   |     |     | 2   |     |     |     | 1   |     |     |     |   |\n",
        "| S079 |     |     |     | 2   | 1   |     |     |     |     |     | 3   |     |     |     |     | 4 |\n",
        "| S080 |     |     |     |     |     |     |     | 3   |     | 2   |     | 1   |     | 4   |     |   |\n",
        "| S081 |     |     |     | 3   |     |     |     | 1   |     |     |     | 2   |     |     |     | 4 |\n",
        "| S082 |     |     |     | 4   |     |     |     | 3   |     |     |     | 2   |     |     |     | 1 |\n",
        "| S083 |     |     |     |     |     | 1   |     | 2   |     | 3   |     |     |     | 4   |     |   |\n",
        "| S084 |     | 1   |     | 2   |     | 3   |     | 4   |     |     |     |     |     |     |     |   |\n",
        "| S085 |     |     |     |     |     | 2   |     |     |     |     |     | 4   |     | 1   |     | 3 |\n",
        "| S086 |     | 3   |     |     |     |     |     |     |     | 2   |     | 4   |     | 1   |     |   |\n",
        "| S087 |     | 3   |     |     |     |     |     | 4   | 1   |     |     | 2   |     |     |     |   |\n",
        "| S088 |     |     | 3   |     |     | 2   |     |     |     | 1   |     |     |     | 4   |     |   |\n",
        "| S089 | 3   | 4   |     |     | 2   | 1   |     |     |     |     |     |     |     |     |     |   |\n",
        "| S090 |     | 2   |     |     |     |     |1    |     |     | 3   |     | 4   |     |     |     |   |\n",
        "| S091 |     |     | 3   | 2   |     | 1   |     |     |     |     |     |     |     | 4   |     |   |\n",
        "| S092 |     |     |     |     |     | 3   |     | 4   |     |     |  1  |     | 2   |     |     |   |\n",
        "| S093 |     | 4   |     |     |     | 2   |     |     |     |     | 1   |     |     |     |     | 3 |\n",
        "| S094 |     | 2   |     |     |     |     |     | 1   |     | 4   |     | 3   |     |     |     |   |\n",
        "| S095 |     |     |     | 4   |     |     |     | 3   |     | 1   |     |     | 2   |     |     |   |\n",
        "| S096 |     | 3   |     |     |     | 1   |     |     |     |     |     |     | 2   |     |     | 4 |\n",
        "| S097 |     |     | 2   |     |     |     | 4   |     |     |     |     | 1   |     |     | 3   |   |\n",
        "| S098 | 4   |     |     |     | 3   |     |     |     |     |     |     |     | 2   |     |     | 1 |\n",
        "| S099 |     | 1   |     | 3   |     |     |     | 2   |     |     |     | 4   |     |     |     |   |\n",
        "| S100 |     |     |     |     |     | 1   |     | 2   |     | 4   |     | 3   |     |     |     |   |"
      ]
    },
    {
      "cell_type": "markdown",
      "metadata": {
        "id": "2n2P4slMQRz_"
      },
      "source": [
        "### 手順\n",
        "1. モデルの作成（作業の流れを考える）\n",
        "2. データをPythonで読み取れる形（csv, excelなど）にする\n",
        "3. Pandas などで読み取る \n",
        "4. コードで式を記述する\n",
        "5. 実行する\n",
        "\n",
        "いろいろググってみて！"
      ]
    },
    {
      "cell_type": "markdown",
      "metadata": {
        "id": "EGdikZfjJvS3"
      },
      "source": [
        "#### 考えること\n",
        "\n",
        "- 変数：何を変数にする？\n",
        "- 目的関数：何を最大・最小にする？\n",
        "- 制約条件：どのように表現する？"
      ]
    },
    {
      "cell_type": "markdown",
      "metadata": {
        "id": "SB8v8_fSuxuN"
      },
      "source": [
        "## 考えた結果\n",
        "\n",
        "#### ・前提条件\n",
        "学生による評価は $b_{s,c}$とする．\n",
        "\n",
        "#### ・変数：\n",
        "クラスと学生数の表を作成する．\n",
        "$$ a_{s,c} \\in {0,1} $$\n",
        "\n",
        "\n",
        "#### ・目的関数：\n",
        "志望度の合計値\n",
        "\n",
        "$$ \\sum_{s}^{100} \\sum_{c}^{16} a_{s,c}\\cdot b_{s,c} $$\n",
        "\n",
        "-> 最大にする？最小にする？設定は？"
      ]
    },
    {
      "cell_type": "markdown",
      "source": [
        "#### ・制約条件：\n",
        "各学生は1つのクラスに配属される．\n",
        "$$ \\sum_{s=1}^{16} a_{s,c} =1 ,$$\n",
        "\n",
        "各クラスには定員がある．\n",
        "$$ cap_{min} \\le \\sum_{c=1}^{100} a_{s,c} \\le cap_{max} $$"
      ],
      "metadata": {
        "id": "9n5lhmLoL5y9"
      }
    },
    {
      "cell_type": "markdown",
      "metadata": {
        "id": "k8DapgL9etKB"
      },
      "source": [
        "## 1.データの整理"
      ]
    },
    {
      "cell_type": "markdown",
      "metadata": {
        "id": "mkQ8T8ZJJaBn"
      },
      "source": [
        "#### 力技でcsvに変換する\n",
        "csv とは，”Comma Separated Values”，つまり，コンマで区切られたもの\n",
        "- メモ帳などを使って，|を,へ変換する\n",
        "- 慣れれば?，すぐにできます．何回も使う(はず)なので，身につけましょう！(PDFでまとめられているものを，よくこのような形で利用します)\n",
        "\n",
        "1. \"| S\" to \"S\"\n",
        "2. \" \" to \"\"\n",
        "3. 2行目を消す．"
      ]
    },
    {
      "cell_type": "markdown",
      "source": [
        "### ツールの準備"
      ],
      "metadata": {
        "id": "J9ygcYTzOn1r"
      }
    },
    {
      "cell_type": "code",
      "execution_count": null,
      "metadata": {
        "id": "Ok0YcR6PJXpb"
      },
      "outputs": [],
      "source": [
        "# 利用するツール（参考までに）\n",
        "import pandas as pd # データ分析\n",
        "from pulp import * # 最適化ソルバー"
      ]
    },
    {
      "cell_type": "markdown",
      "metadata": {
        "id": "5F7CE5cjPprX"
      },
      "source": [
        "#### データの読み取り\n",
        "- いろいろな型のデータをデータフレームとして扱える\n",
        "- データ加工しやすい"
      ]
    },
    {
      "cell_type": "code",
      "execution_count": null,
      "metadata": {
        "colab": {
          "base_uri": "https://localhost:8080/"
        },
        "id": "twwrFOLQJmFM",
        "outputId": "1e16899c-124e-41b1-c02e-fba10f1d7d4b"
      },
      "outputs": [
        {
          "output_type": "execute_result",
          "data": {
            "text/plain": [
              "99999.0"
            ]
          },
          "metadata": {},
          "execution_count": 24
        }
      ],
      "source": [
        "costs = pd.read_csv('https://raw.githubusercontent.com/naohiro701/naohiro701/main/data/seminar_04.csv', index_col=0, na_values = 'na')\n",
        "costs = costs.fillna(99999)\n",
        "# costs\n",
        "# costs.loc[\"S001\",\"C01\"]"
      ]
    },
    {
      "cell_type": "markdown",
      "source": [
        "### 変数の定義"
      ],
      "metadata": {
        "id": "d2CrPblcO7TV"
      }
    },
    {
      "cell_type": "code",
      "execution_count": null,
      "metadata": {
        "colab": {
          "base_uri": "https://localhost:8080/"
        },
        "id": "UruqLvnVimms",
        "outputId": "83711385-160e-457e-c57f-d302f9c8def6"
      },
      "outputs": [
        {
          "output_type": "stream",
          "name": "stdout",
          "text": [
            "['S001', 'S002', 'S003', 'S004', 'S005', 'S006', 'S007', 'S008', 'S009', 'S010', 'S011', 'S012', 'S013', 'S014', 'S015', 'S016', 'S017', 'S018', 'S019', 'S020', 'S021', 'S022', 'S023', 'S024', 'S025', 'S026', 'S027', 'S028', 'S029', 'S030', 'S031', 'S032', 'S033', 'S034', 'S035', 'S036', 'S037', 'S038', 'S039', 'S040', 'S041', 'S042', 'S043', 'S044', 'S045', 'S046', 'S047', 'S048', 'S049', 'S050', 'S051', 'S052', 'S053', 'S054', 'S055', 'S056', 'S057', 'S058', 'S059', 'S060', 'S061', 'S062', 'S063', 'S064', 'S065', 'S066', 'S067', 'S068', 'S069', 'S070', 'S071', 'S072', 'S073', 'S074', 'S075', 'S076', 'S077', 'S078', 'S079', 'S080', 'S081', 'S082', 'S083', 'S084', 'S085', 'S086', 'S087', 'S088', 'S089', 'S090', 'S091', 'S092', 'S093', 'S094', 'S095', 'S096', 'S097', 'S098', 'S099', 'S100']\n"
          ]
        }
      ],
      "source": [
        "# 変数の定義\n",
        "students = costs.index.tolist()\n",
        "classes = costs.columns.tolist()\n",
        "\n",
        "# 各クラスの最大・最小の人数（オリジナルの制約．一般的には最小1人などとする．）\n",
        "n_min = 5\n",
        "n_max = 10"
      ]
    },
    {
      "cell_type": "markdown",
      "source": [
        "### 問題・変数の設定"
      ],
      "metadata": {
        "id": "XZPIro6XPGup"
      }
    },
    {
      "cell_type": "code",
      "source": [
        "# 問題の設定\n",
        "problem = LpProblem(\"Example_Problem\", LpMinimize)\n",
        "\n",
        "# 変数の設定\n",
        "x = LpVariable.dicts('student_table', (students, classes), 0, 1, LpBinary)"
      ],
      "metadata": {
        "id": "RW2mNCYcO182"
      },
      "execution_count": null,
      "outputs": []
    },
    {
      "cell_type": "markdown",
      "metadata": {
        "id": "-udlepSrPxdw"
      },
      "source": [
        "## 2.目的関数を書く"
      ]
    },
    {
      "cell_type": "code",
      "execution_count": null,
      "metadata": {
        "id": "BSmKtz92QH4N"
      },
      "outputs": [],
      "source": [
        "problem += lpSum(x[s][c] * costs.loc[s][c] \n",
        "                 for s in students for c in classes), \"Objective function\" "
      ]
    },
    {
      "cell_type": "markdown",
      "metadata": {
        "id": "zNL9gEYCP1qu"
      },
      "source": [
        "## 3.制約条件を書く"
      ]
    },
    {
      "cell_type": "code",
      "source": [
        "# 制約条件の定義\n",
        "# 各学生は1つ以上のクラスに割り振られる\n",
        "for s in students:\n",
        "    problem += lpSum([x[s][c] for c in classes]) >= 1\n",
        "\n",
        "# 各クラスは、n_min人以上, n_max以下の学生が割り振られる\n",
        "for c in classes:\n",
        "    problem += lpSum([x[s][c] for s in students]) >= n_min\n",
        "\n",
        "for c in classes:\n",
        "    problem += lpSum([x[s][c] for s in students]) <= n_max"
      ],
      "metadata": {
        "id": "tLNz1rq6OfZw"
      },
      "execution_count": null,
      "outputs": []
    },
    {
      "cell_type": "code",
      "source": [
        "# 問題を解く\n",
        "result_status = problem.solve()"
      ],
      "metadata": {
        "id": "zIzODyEFOcqw"
      },
      "execution_count": null,
      "outputs": []
    },
    {
      "cell_type": "code",
      "source": [
        "print(\"\")\n",
        "print(\"計算結果\")\n",
        "print(\"*\" * 16)\n",
        "print(f\"最適性 = {LpStatus[result_status]}\")\n",
        "print(f\"目的関数値 = {value(problem.objective)}\")"
      ],
      "metadata": {
        "id": "OXGY6ypmOX0q"
      },
      "execution_count": null,
      "outputs": []
    },
    {
      "cell_type": "code",
      "source": [
        "# 結果の出力\n",
        "for s in students:\n",
        "    for c in classes:\n",
        "        if x[s][c].varValue == 1:\n",
        "            print(\"Student {} is assigned to class {}\".format(s, c))"
      ],
      "metadata": {
        "id": "2fWz7kvZOWbq"
      },
      "execution_count": null,
      "outputs": []
    }
  ],
  "metadata": {
    "colab": {
      "provenance": [],
      "include_colab_link": true
    },
    "kernelspec": {
      "display_name": "Python 3",
      "name": "python3"
    },
    "language_info": {
      "name": "python"
    }
  },
  "nbformat": 4,
  "nbformat_minor": 0
}