{
  "nbformat": 4,
  "nbformat_minor": 0,
  "metadata": {
    "colab": {
      "provenance": [],
      "authorship_tag": "ABX9TyMmylWZkNU8ypraR+QnNBpT",
      "include_colab_link": true
    },
    "kernelspec": {
      "name": "python3",
      "display_name": "Python 3"
    },
    "language_info": {
      "name": "python"
    }
  },
  "cells": [
    {
      "cell_type": "markdown",
      "metadata": {
        "id": "view-in-github",
        "colab_type": "text"
      },
      "source": [
        "<a href=\"https://colab.research.google.com/github/naohiro701/naohiro701/blob/main/movie_to_text.ipynb\" target=\"_parent\"><img src=\"https://colab.research.google.com/assets/colab-badge.svg\" alt=\"Open In Colab\"/></a>"
      ]
    },
    {
      "cell_type": "code",
      "source": [
        "# youtube url\n",
        "youtube_url = \"\""
      ],
      "metadata": {
        "id": "hOlp31eCh20U"
      },
      "execution_count": null,
      "outputs": []
    },
    {
      "cell_type": "markdown",
      "source": [
        "### set google drive "
      ],
      "metadata": {
        "id": "PGkygt-jSSqv"
      }
    },
    {
      "cell_type": "code",
      "source": [
        "from google.colab import drive\n",
        "from google.colab import files\n",
        "# drive.mount('/content/drive')\n",
        "# mp3_url = files.upload() #MP3"
      ],
      "metadata": {
        "id": "yRSn2eucST0Y"
      },
      "execution_count": null,
      "outputs": []
    },
    {
      "cell_type": "markdown",
      "source": [
        "### convert movie on youtube to mp3"
      ],
      "metadata": {
        "id": "RP21DLI-PPv8"
      }
    },
    {
      "cell_type": "code",
      "execution_count": null,
      "metadata": {
        "id": "JHtzltrPOYww"
      },
      "outputs": [],
      "source": [
        "!python -m pip install -U yt-dlp"
      ]
    },
    {
      "cell_type": "code",
      "source": [
        "from yt_dlp import YoutubeDL\n",
        "\n",
        "# 条件設定\n",
        "ydl_opts = {\n",
        "    'format': 'bestaudio/best',\n",
        "    'outtmpl':  \"sample_music\" + '.%(ext)s',\n",
        "    'postprocessors': [\n",
        "        {'key': 'FFmpegExtractAudio',\n",
        "        'preferredcodec': 'mp3',\n",
        "         'preferredquality': '128'},\n",
        "        {'key': 'FFmpegMetadata'},\n",
        "    ],\n",
        "}"
      ],
      "metadata": {
        "id": "eu7LXXphSdMQ"
      },
      "execution_count": null,
      "outputs": []
    },
    {
      "cell_type": "code",
      "source": [
        "with YoutubeDL(ydl_opts) as ydl:\n",
        "    error_code = ydl.download(youtube_url )"
      ],
      "metadata": {
        "id": "OJXDD9_ZdZxp"
      },
      "execution_count": null,
      "outputs": []
    },
    {
      "cell_type": "markdown",
      "source": [
        "### import wisper"
      ],
      "metadata": {
        "id": "aAF1ugfwPMmO"
      }
    },
    {
      "cell_type": "code",
      "source": [
        "!pip install git+https://github.com/openai/whisper.git "
      ],
      "metadata": {
        "id": "A4u7niX-PMHO"
      },
      "execution_count": null,
      "outputs": []
    },
    {
      "cell_type": "markdown",
      "source": [
        "|  Size  | Parameters | English-only model | Multilingual model | Required VRAM | Relative speed |\n",
        "|:------:|:----------:|:------------------:|:------------------:|:-------------:|:--------------:|\n",
        "|  tiny  |    39 M    |     `tiny.en`      |       `tiny`       |     ~1 GB     |      ~32x      |\n",
        "|  base  |    74 M    |     `base.en`      |       `base`       |     ~1 GB     |      ~16x      |\n",
        "| small  |   244 M    |     `small.en`     |      `small`       |     ~2 GB     |      ~6x       |\n",
        "| medium |   769 M    |    `medium.en`     |      `medium`      |     ~5 GB     |      ~2x       |\n",
        "| large  |   1550 M   |        N/A         |      `large`       |    ~10 GB     |       1x       |\n"
      ],
      "metadata": {
        "id": "CTb9zFOgWAuy"
      }
    },
    {
      "cell_type": "code",
      "source": [
        "import whisper"
      ],
      "metadata": {
        "id": "kY9om5bkQCvw"
      },
      "execution_count": null,
      "outputs": []
    },
    {
      "cell_type": "code",
      "source": [
        "model = whisper.load_model(\"large\")\n",
        "mp3_url = \"/content/sample_music.mp3\"\n",
        "result = model.transcribe(mp3_url)\n",
        "# print(result[\"text\"])"
      ],
      "metadata": {
        "id": "YCHeXW3fPJ63"
      },
      "execution_count": null,
      "outputs": []
    },
    {
      "cell_type": "markdown",
      "source": [
        "### make word cloud"
      ],
      "metadata": {
        "id": "XJFjIBpOPYgd"
      }
    },
    {
      "cell_type": "code",
      "source": [
        "!apt install aptitude\n",
        "!aptitude install git make curl xz-utils file -y\n",
        "!aptitude install mecab libmecab-dev mecab-ipadic-utf8 -y\n",
        "!pip install mecab-python3==0.7\n",
        "!apt-get -y install fonts-ipafont-gothic"
      ],
      "metadata": {
        "id": "eret5C7UPJ9T"
      },
      "execution_count": null,
      "outputs": []
    },
    {
      "cell_type": "code",
      "source": [
        "import MeCab\n",
        "from collections import defaultdict\n",
        "import re\n",
        "import io\n",
        "import urllib.request\n",
        "from zipfile import ZipFile\n",
        "import IPython\n",
        "from wordcloud import WordCloud"
      ],
      "metadata": {
        "id": "900zR5bsPJ_c"
      },
      "execution_count": null,
      "outputs": []
    },
    {
      "cell_type": "code",
      "source": [
        "def load_from_url(url):\n",
        "    data = urllib.request.urlopen(url).read()\n",
        "    zipdata = ZipFile(io.BytesIO(data))\n",
        "    filename = zipdata.namelist()[0]\n",
        "    text = zipdata.read(filename).decode(\"shift-jis\")\n",
        "    text = re.sub(r'［.*?］', '', text)\n",
        "    text = re.sub(r'《.*?》', '', text)\n",
        "    return text"
      ],
      "metadata": {
        "id": "oHPm6RiFPiOG"
      },
      "execution_count": null,
      "outputs": []
    },
    {
      "cell_type": "code",
      "source": [
        "def show_top10(text):\n",
        "    m = MeCab.Tagger()\n",
        "    node = m.parseToNode(text)\n",
        "    dic = defaultdict(int)\n",
        "    while node:\n",
        "        a = node.feature.split(\",\")\n",
        "        key = node.surface\n",
        "        if a[0] == u\"名詞\" and a[1] == u\"一般\" and key != \"\":\n",
        "            dic[key] += 1\n",
        "        node = node.next\n",
        "    for k, v in sorted(dic.items(), key=lambda x: -x[1])[0:10]:\n",
        "        print(k + \":\" + str(v))\n",
        "\n",
        "# show_top10(text)"
      ],
      "metadata": {
        "id": "VXwKcdthPjcT"
      },
      "execution_count": null,
      "outputs": []
    },
    {
      "cell_type": "code",
      "source": [
        "def get_words(text):\n",
        "    w = \"\"\n",
        "    m = MeCab.Tagger()\n",
        "    node = m.parseToNode(text)\n",
        "    while node:\n",
        "        a = node.feature.split(\",\")\n",
        "        if a[0] == u\"名詞\" and a[1] == u\"一般\":\n",
        "            w += node.surface + \" \"\n",
        "        node = node.next\n",
        "    return w"
      ],
      "metadata": {
        "id": "LoxFEreqPsVF"
      },
      "execution_count": null,
      "outputs": []
    },
    {
      "cell_type": "code",
      "source": [
        "text = result[\"text\"]"
      ],
      "metadata": {
        "id": "lIEhlMkbPk6l"
      },
      "execution_count": null,
      "outputs": []
    },
    {
      "cell_type": "code",
      "source": [
        "words = get_words(text)\n",
        "fpath='/usr/share/fonts/opentype/ipafont-gothic/ipagp.ttf'\n",
        "wc = WordCloud(background_color=\"white\", width=4800, height=3200, font_path=fpath)\n",
        "wc.generate(words)\n",
        "wc.to_file(\"wc.png\")\n",
        "IPython.display.Image(\"wc.png\")"
      ],
      "metadata": {
        "id": "djAwLYJtPoyM"
      },
      "execution_count": null,
      "outputs": []
    }
  ]
}
