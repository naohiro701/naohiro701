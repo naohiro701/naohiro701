{
  "nbformat": 4,
  "nbformat_minor": 0,
  "metadata": {
    "colab": {
      "provenance": [],
      "include_colab_link": true
    },
    "kernelspec": {
      "name": "python3",
      "display_name": "Python 3"
    },
    "language_info": {
      "name": "python"
    }
  },
  "cells": [
    {
      "cell_type": "markdown",
      "metadata": {
        "id": "view-in-github",
        "colab_type": "text"
      },
      "source": [
        "<a href=\"https://colab.research.google.com/github/naohiro701/naohiro701/blob/main/03_%E6%95%B0%E7%90%86%E6%9C%80%E9%81%A9%E5%8C%96.ipynb\" target=\"_parent\"><img src=\"https://colab.research.google.com/assets/colab-badge.svg\" alt=\"Open In Colab\"/></a>"
      ]
    },
    {
      "cell_type": "markdown",
      "source": [
        "# 数理最適化\n",
        "### ・概要\n",
        "現象を数理最適化問題としてモデル化し解析する，意思決定手段の一つ．\n",
        "\n",
        "> - 配送計画を効率的に設計する．\n",
        "- 生産を最大化する．\n",
        "- 配送ネットワーク中の中継地点・店舗配置問題を解く．\n",
        "- 効果を最大化する運用の設計．など．\n",
        "\n",
        "### ・手段\n",
        "制約条件を満たす中で，目的関数の値を最大・最小にする．\n",
        "\n",
        "### ・種類\n",
        "- 連続最適化問題\n",
        "  - 線形計画問題\n",
        "  - 非線形計画問題\n",
        "- 離散最適化問題\n",
        "  - 最短経路問題\n",
        "  - ナップザック問題\n",
        "  - 巡回セールスマン問題\n"
      ],
      "metadata": {
        "id": "nFU0leMag-Cj"
      }
    },
    {
      "cell_type": "markdown",
      "source": [
        "## 線型計画問題\n",
        "目的関数と制約条件がすべて線型の最適化問題．\n",
        "\n",
        "2変数の場合の典型的な問題は，与えられた定係数 $x,y $と $b_{i}c_{j}$ ，および不等式制約\n",
        "\n",
        "\n",
        "\\begin{matrix}a_{11}x_{1}+a_{12}x_{2}\\leq b_{1}\\\\a_{21}x_{1}+a_{22}x_{2}\\leq b_{2}\\\\\\end{matrix}\n",
        "が成り立つうえで，\n",
        "\n",
        "$$ c_{1}x_{1}+c_{2}x_{2} $$\n",
        "\n",
        "の最大値およびそれを実現する $x_{1}$  と $x_{2}$  を求めることである．"
      ],
      "metadata": {
        "id": "8UsVP-V3bjJA"
      }
    },
    {
      "cell_type": "markdown",
      "source": [
        "### 例題\n",
        "\n",
        "制約条件\n",
        "$$ 2x_1 + x_2 \\le 3 $$\n",
        "$$ x_1 + 2x_2 \\le 4 $$\n",
        "\n",
        "目的関数\n",
        "$$ Minimum \\quad z = x_1 +x_2 $$\n",
        "\n"
      ],
      "metadata": {
        "id": "ZNMqg0hMx_Qv"
      }
    },
    {
      "cell_type": "markdown",
      "source": [
        "### PuLPのインストール\n",
        "PuLP is an LP modeler written in Python. "
      ],
      "metadata": {
        "id": "oPzDYPHUgIm_"
      }
    },
    {
      "cell_type": "code",
      "source": [
        "!pip install pulp"
      ],
      "metadata": {
        "id": "CfuJbbwPgBI9"
      },
      "execution_count": null,
      "outputs": []
    },
    {
      "cell_type": "code",
      "source": [
        "# 線形/整数線形最適化問題を解くためにPuLPをインポート\n",
        "from pulp import *"
      ],
      "metadata": {
        "id": "iFVAt7VbnIFr"
      },
      "execution_count": null,
      "outputs": []
    },
    {
      "cell_type": "markdown",
      "source": [
        "## 書き方\n",
        "### 新しい変数を作成\n",
        "\n",
        "$0 \\le x \\le 1$ という変数を作成する\n",
        "```\n",
        "x = LpVariable(\"x\", 0, 1)\n",
        "```\n",
        "\n",
        "変数 $0 \\le y \\le \\infty$ を作成\n",
        "```\n",
        "y = LpVariable(\"y\", 0, sys.maxsize)\n",
        "```\n",
        "\n",
        "変数の設定をする．\n",
        "\n",
        "```\n",
        "x = LpVariable('x', cat='Integer')\n",
        "```\n",
        "- Continuous, 実数\n",
        "- Integer, 整数\n",
        "- Binary, 0 または 1\n",
        "\n",
        "### 新しい問題を作成\n",
        "\n",
        "\"myProblem \"を作成\n",
        "```\n",
        "prob = LpProblem(\"myProblem\", LpMinimize)\n",
        "```\n",
        "\n",
        "制約条件を追加\n",
        "```\n",
        "prob += x + y <= 2\n",
        "```\n",
        "\n",
        "目的関数を設定するには，等号を含まないものを入力\n",
        "```\n",
        "prob += -4*x + y\n",
        "```\n",
        "デフォルトで入っているソルバーで解く\n",
        "```\n",
        "status = prob.solve()\n",
        "```\n",
        "解けたのか確認する\n",
        "```\n",
        "LpStatus[status]\n",
        "> 'Optimal'\n",
        "```\n",
        "得られた解を確認する\n",
        "```\n",
        "pulp.value(x)\n",
        "```"
      ],
      "metadata": {
        "id": "MrfsxJo9gsPP"
      }
    },
    {
      "cell_type": "markdown",
      "source": [
        "## コードの書き方の例\n"
      ],
      "metadata": {
        "id": "_Ny-Sy3FoDdS"
      }
    },
    {
      "cell_type": "code",
      "source": [
        "# 線形/整数線形最適化問題を解くためにPuLPをインポート\n",
        "from  pulp import * \n",
        "\n",
        "# 数理最適化問題（最大化）を宣言\n",
        "# 最小化の場合は pMinimize にする\n",
        "problem = LpProblem(\"Example_Problem\", LpMaximize)\n",
        "\n",
        "# 変数の定義 （x,yは非負）\n",
        "x = pulp.LpVariable(\"x\", 0, sys.maxsize)\n",
        "y = pulp.LpVariable(\"y\", 0, sys.maxsize)\n",
        "\n",
        "# 目的関数\n",
        "problem +=  x + y, \"Objective function\" \n",
        "\n",
        "# 制約条件\n",
        "problem +=  2 * x + y <= 3 , \"Constraint_1\"\n",
        "problem +=  x + 2 * y <= 4 , \"Constraint_2\" \n",
        "\n",
        "# 計算\n",
        "result_status = problem.solve()\n",
        "\n",
        "# 目的関数値や解を表示\n",
        "print(\"\")\n",
        "print(\"計算結果\")\n",
        "print(\"*\" * 16)\n",
        "print(f\"最適性 = {LpStatus[result_status]}\")\n",
        "print(f\"目的関数値 = {value(problem.objective)}\")\n",
        "print(f\"解 x = {value(x)}\")\n",
        "print(f\"　 y = {value(y)}\")\n",
        "print(\"*\" *16)"
      ],
      "metadata": {
        "id": "H-qfZaBiZbyN"
      },
      "execution_count": null,
      "outputs": []
    },
    {
      "cell_type": "markdown",
      "source": [
        "## 練習問題01\n",
        "目的関数:\n",
        " $$  Maximize : x + y + 1 $$\n",
        "\n",
        "制約条件:\n",
        "    $$ 3  x + 5  y <= 15 $$\n",
        "    $$ 2 x + y >= 4$$\n",
        "    $$ x - y = 1 $$\n",
        "    $$ x >= 0 , y >= 0 $$ "
      ],
      "metadata": {
        "id": "pCTN6YopIcdK"
      }
    },
    {
      "cell_type": "code",
      "source": [
        "from pulp import *\n",
        "\n",
        "# 整数最適化問題を定義\n",
        "prob = LpProblem(\"Problem\", LpMaximize)\n",
        "\n",
        "# 変数を定義\n",
        "x = LpVariable(\"x\", 0, None)\n",
        "y = LpVariable(\"y\", 0, None)\n",
        "\n",
        "# 目的関数を設定\n",
        "prob += x + y + 1\n",
        "\n",
        "# 制約条件を設定\n",
        "prob += 3 * x + 5 * y <= 15\n",
        "prob += 2 * x + y >= 4\n",
        "prob += x - y == 1\n",
        "\n",
        "# 最適化を実行\n",
        "prob.solve()\n",
        "\n",
        "# 結果を表示\n",
        "print(\"status:\", LpStatus[prob.status])\n",
        "print(\"objective:\", value(prob.objective))\n",
        "for var in prob.variables():\n",
        "    print(var.name, \"=\", var.varValue)\n"
      ],
      "metadata": {
        "id": "sWpjBlAbKay3"
      },
      "execution_count": null,
      "outputs": []
    },
    {
      "cell_type": "markdown",
      "source": [
        "## 練習問題02\n",
        "下表に示す 3 種類の食品を使って，2 種類の栄養素 の摂取量を満たす一番安い組み合わせを求める．\n",
        "\n",
        "| |食品a  | 食品b | 食品c | 摂取量 |\n",
        "|------|-----|-----|-----|---|\n",
        "| 栄養素x | 3   | 1   | 2   | 15 |\n",
        "| 栄養素y | 1   | 2   | 4   | 10 |\n",
        "| 単価   | 4   | 2   | 3   |\n"
      ],
      "metadata": {
        "id": "EpmH0d2UKNHw"
      }
    },
    {
      "cell_type": "code",
      "source": [
        "from pulp import *\n",
        "\n",
        "# 整数最適化問題を定義\n",
        "prob = LpProblem(\"Problem\", LpMinimize)\n",
        "\n",
        "# 変数を定義\n",
        "a = LpVariable(\"a\", 0, None, LpInteger)\n",
        "b = LpVariable(\"b\", 0, None, LpInteger)\n",
        "c = LpVariable(\"c\", 0, None, LpInteger)\n",
        "\n",
        "# 目的関数を設定\n",
        "prob += 4 * a + 2 * b + 3 * c\n",
        "\n",
        "# 制約条件を設定\n",
        "prob += 3 * a + 1 * b + 2 * c >= 15\n",
        "prob += 1 * a + 2 * b + 4 * c >= 10\n",
        "\n",
        "# 最適化を実行\n",
        "prob.solve()\n",
        "\n",
        "# 結果を表示\n",
        "print(\"status:\", LpStatus[prob.status])\n",
        "print(\"objective:\", value(prob.objective))\n",
        "for var in prob.variables():\n",
        "    print(var.name, \"=\", var.varValue)\n",
        "\n"
      ],
      "metadata": {
        "id": "ZFw1eMIUKbOl"
      },
      "execution_count": null,
      "outputs": []
    }
  ]
}