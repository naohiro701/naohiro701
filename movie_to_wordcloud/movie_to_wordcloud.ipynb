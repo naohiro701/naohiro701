{
  "cells": [
    {
      "cell_type": "markdown",
      "metadata": {
        "colab_type": "text",
        "id": "view-in-github"
      },
      "source": [
        "<a href=\"https://colab.research.google.com/github/naohiro701/naohiro701/blob/main/movie_to_text.ipynb\" target=\"_parent\"><img src=\"https://colab.research.google.com/assets/colab-badge.svg\" alt=\"Open In Colab\"/></a>"
      ]
    },
    {
      "cell_type": "code",
      "execution_count": null,
      "metadata": {
        "id": "hOlp31eCh20U"
      },
      "outputs": [],
      "source": [
        "# youtube url\n",
        "youtube_url = \"\""
      ]
    },
    {
      "attachments": {},
      "cell_type": "markdown",
      "metadata": {
        "id": "PGkygt-jSSqv"
      },
      "source": [
        "### Set Google Drive "
      ]
    },
    {
      "cell_type": "code",
      "execution_count": null,
      "metadata": {
        "id": "yRSn2eucST0Y"
      },
      "outputs": [],
      "source": [
        "from google.colab import drive\n",
        "from google.colab import files"
      ]
    },
    {
      "cell_type": "markdown",
      "metadata": {
        "id": "RP21DLI-PPv8"
      },
      "source": [
        "### convert movie on youtube to mp3"
      ]
    },
    {
      "cell_type": "code",
      "execution_count": null,
      "metadata": {
        "id": "JHtzltrPOYww"
      },
      "outputs": [],
      "source": [
        "!python -m pip install -U yt-dlp"
      ]
    },
    {
      "cell_type": "code",
      "execution_count": null,
      "metadata": {
        "id": "eu7LXXphSdMQ"
      },
      "outputs": [],
      "source": [
        "from yt_dlp import YoutubeDL\n",
        "\n",
        "ydl_opts = {\n",
        "    'format': 'bestaudio/best',\n",
        "    'outtmpl':  \"sample_music\" + '.%(ext)s',\n",
        "    'postprocessors': [\n",
        "        {'key': 'FFmpegExtractAudio',\n",
        "        'preferredcodec': 'mp3',\n",
        "        'preferredquality': '128'},\n",
        "        {'key': 'FFmpegMetadata'},\n",
        "    ],\n",
        "}"
      ]
    },
    {
      "cell_type": "code",
      "execution_count": null,
      "metadata": {
        "id": "OJXDD9_ZdZxp"
      },
      "outputs": [],
      "source": [
        "with YoutubeDL(ydl_opts) as ydl:\n",
        "    error_code = ydl.download(youtube_url )"
      ]
    },
    {
      "cell_type": "markdown",
      "metadata": {
        "id": "aAF1ugfwPMmO"
      },
      "source": [
        "### import wisper"
      ]
    },
    {
      "cell_type": "code",
      "execution_count": null,
      "metadata": {
        "id": "A4u7niX-PMHO"
      },
      "outputs": [],
      "source": [
        "!pip install git+https://github.com/openai/whisper.git "
      ]
    },
    {
      "cell_type": "markdown",
      "metadata": {
        "id": "CTb9zFOgWAuy"
      },
      "source": [
        "|  Size  | Parameters | English-only model | Multilingual model | Required VRAM | Relative speed |\n",
        "|:------:|:----------:|:------------------:|:------------------:|:-------------:|:--------------:|\n",
        "|  tiny  |    39 M    |     `tiny.en`      |       `tiny`       |     ~1 GB     |      ~32x      |\n",
        "|  base  |    74 M    |     `base.en`      |       `base`       |     ~1 GB     |      ~16x      |\n",
        "| small  |   244 M    |     `small.en`     |      `small`       |     ~2 GB     |      ~6x       |\n",
        "| medium |   769 M    |    `medium.en`     |      `medium`      |     ~5 GB     |      ~2x       |\n",
        "| large  |   1550 M   |        N/A         |      `large`       |    ~10 GB     |       1x       |\n"
      ]
    },
    {
      "cell_type": "code",
      "execution_count": null,
      "metadata": {
        "id": "kY9om5bkQCvw"
      },
      "outputs": [],
      "source": [
        "import whisper"
      ]
    },
    {
      "cell_type": "code",
      "execution_count": null,
      "metadata": {
        "id": "YCHeXW3fPJ63"
      },
      "outputs": [],
      "source": [
        "model = whisper.load_model(\"large\")\n",
        "result = model.transcribe(\"/content/sample_music.mp3\")"
      ]
    },
    {
      "attachments": {},
      "cell_type": "markdown",
      "metadata": {
        "id": "XJFjIBpOPYgd"
      },
      "source": [
        "### Make Word Cloud"
      ]
    },
    {
      "cell_type": "code",
      "execution_count": null,
      "metadata": {
        "id": "eret5C7UPJ9T"
      },
      "outputs": [],
      "source": [
        "!apt install aptitude\n",
        "!aptitude install git make curl xz-utils file -y\n",
        "!aptitude install mecab libmecab-dev mecab-ipadic-utf8 -y\n",
        "!pip install mecab-python3==0.7\n",
        "!apt-get -y install fonts-ipafont-gothic"
      ]
    },
    {
      "cell_type": "code",
      "execution_count": null,
      "metadata": {
        "id": "900zR5bsPJ_c"
      },
      "outputs": [],
      "source": [
        "import MeCab\n",
        "from collections import defaultdict\n",
        "import re\n",
        "import io\n",
        "import urllib.request\n",
        "from zipfile import ZipFile\n",
        "import IPython\n",
        "from wordcloud import WordCloud"
      ]
    },
    {
      "cell_type": "code",
      "execution_count": null,
      "metadata": {
        "id": "oHPm6RiFPiOG"
      },
      "outputs": [],
      "source": [
        "def load_from_url(url):\n",
        "    data = urllib.request.urlopen(url).read()\n",
        "    zipdata = ZipFile(io.BytesIO(data))\n",
        "    filename = zipdata.namelist()[0]\n",
        "    text = zipdata.read(filename).decode(\"shift-jis\")\n",
        "    text = re.sub(r'［.*?］', '', text)\n",
        "    text = re.sub(r'《.*?》', '', text)\n",
        "    return text"
      ]
    },
    {
      "cell_type": "code",
      "execution_count": null,
      "metadata": {
        "id": "LoxFEreqPsVF"
      },
      "outputs": [],
      "source": [
        "def get_words(text):\n",
        "    w = \"\"\n",
        "    m = MeCab.Tagger()\n",
        "    node = m.parseToNode(text)\n",
        "    while node:\n",
        "        a = node.feature.split(\",\")\n",
        "        if a[0] == u\"名詞\" and a[1] == u\"一般\":\n",
        "            w += node.surface + \" \"\n",
        "        node = node.next\n",
        "    return w"
      ]
    },
    {
      "cell_type": "code",
      "execution_count": null,
      "metadata": {
        "id": "djAwLYJtPoyM"
      },
      "outputs": [],
      "source": [
        "words = get_words(result[\"text\"])\n",
        "fpath='/usr/share/fonts/opentype/ipafont-gothic/ipagp.ttf'\n",
        "wc = WordCloud(background_color=\"white\", width=4800, height=3200, font_path=fpath)\n",
        "wc.generate(words)\n",
        "wc.to_file(\"wc.png\")\n",
        "IPython.display.Image(\"wc.png\")"
      ]
    }
  ],
  "metadata": {
    "colab": {
      "authorship_tag": "ABX9TyMmylWZkNU8ypraR+QnNBpT",
      "include_colab_link": true,
      "provenance": []
    },
    "kernelspec": {
      "display_name": "Python 3",
      "name": "python3"
    },
    "language_info": {
      "name": "python"
    }
  },
  "nbformat": 4,
  "nbformat_minor": 0
}
